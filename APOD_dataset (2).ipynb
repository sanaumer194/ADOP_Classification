{
  "cells": [
    {
      "cell_type": "code",
      "execution_count": 2,
      "metadata": {
        "colab": {
          "base_uri": "https://localhost:8080/"
        },
        "id": "Udi1cflq_VRJ",
        "outputId": "48369298-1f49-45fc-b8f5-98cb59cddc54"
      },
      "outputs": [
        {
          "name": "stdout",
          "output_type": "stream",
          "text": [
            "Drive already mounted at /content/drive; to attempt to forcibly remount, call drive.mount(\"/content/drive\", force_remount=True).\n"
          ]
        }
      ],
      "source": [
        "from google.colab import drive\n",
        "drive.mount('/content/drive')"
      ]
    },
    {
      "cell_type": "markdown",
      "metadata": {
        "id": "SPDy05Ld50TZ"
      },
      "source": [
        "# ADOP dataset Classification"
      ]
    },
    {
      "cell_type": "markdown",
      "metadata": {
        "id": "q23PuqXi6H8I"
      },
      "source": [
        "\"The APOD dataset is the dataset of \"Astronomy Picture of the Day\" which is a collection of images provided by NASA. The dataset includes images from different categories of astronomy such as planets, galaxies, nebulae, etc. I am using VGG16 to classify images either real or fake for this a super effective technique is to use Transfer Learning where I am using pre-trained model of VGG16. The benefits of using pre-trained model is:\n",
        "\n",
        "**1:**Reduced Training Time: The VGG16 model has already been trained on a large dataset, such as ImageNet. By using a pre-trained model, you can avoid the need to train a model from scratch on the APOD dataset. This can save a lot of time and computational resources.\n",
        "\n",
        "**2:**Better Performance: The VGG16 model has already been trained to recognize a wide variety of objects, which means it has already learned features that are useful for image classification tasks. These features can be used as a starting point to train a new model on the APOD dataset, which can lead to better performance than training a model from scratch.\n",
        "\n",
        "**3:**Handling Small Dataset: The APOD dataset may not be as large as other datasets such as ImageNet, by using transfer learning with a pre-trained model, you can utilize the knowledge of the model learned from the large dataset, this can help improve the performance of the model on the smaller APOD dataset.\n",
        "\n",
        "**4:**Fine-tuning: With transfer learning, you can fine-tune the pre-trained model on your dataset. This means that you can train the model on your dataset while keeping the pre-trained weights fixed, and only update the last few layers, this can help to learn features that are specific to the dataset you're working with, and improve the performance of the model.\""
      ]
    },
    {
      "cell_type": "code",
      "execution_count": null,
      "metadata": {
        "id": "aOt7Y-t7vzDQ"
      },
      "outputs": [],
      "source": [
        "# Import modules\n",
        "from keras.preprocessing.image import ImageDataGenerator\n",
        "from keras.layers import Dense, GlobalAveragePooling2D\n",
        "from tensorflow.keras.preprocessing import image\n",
        "from tensorflow.keras.models import load_model\n",
        "from keras.applications import VGG16\n",
        "import matplotlib.pyplot as plt\n",
        "from keras.models import Model\n",
        "from tensorflow import keras\n",
        "import tensorflow as tf\n",
        "import pandas as pd\n",
        "import numpy as np\n",
        "import glob\n"
      ]
    },
    {
      "cell_type": "code",
      "execution_count": null,
      "metadata": {
        "colab": {
          "base_uri": "https://localhost:8080/"
        },
        "id": "-E7_q1PpvzHO",
        "outputId": "df1ea6b4-75cc-4df8-ab7d-842d12430312"
      },
      "outputs": [
        {
          "name": "stdout",
          "output_type": "stream",
          "text": [
            "Found GPU at: /device:GPU:0\n"
          ]
        }
      ],
      "source": [
        "device_name = tf.test.gpu_device_name()\n",
        "if not device_name:\n",
        "  raise SystemError('GPU device not found')\n",
        "print('Found GPU at: {}'.format(device_name))"
      ]
    },
    {
      "cell_type": "markdown",
      "metadata": {
        "id": "lcoFgtD17Szy"
      },
      "source": [
        "It creates two instances of the ImageDataGenerator class from the keras.preprocessing.These instances are used to preprocess the images in the training and validation datasets.\n",
        "\n",
        "The validation_datagen instance is used to preprocess the validation dataset. It is initialized with the rescale parameter set to 1/255. \n",
        "The train_datagen instance is used to preprocess the training dataset.It also includes several additional data augmentation techniques :\n",
        "**rotation_range** - randomly rotate the image by an angle within the given range\n",
        "**width_shift_range** and h**eight_shift_range** - randomly shift the image horizontally and vertically\n",
        "**shear_range** - apply random shearing transformation\n",
        "**zoom_range** - randomly zoom in and out of the image\n",
        "\n",
        "These data augmentation techniques are used to artificially increase the size of the training dataset by applying various transformations to the images. This can help to improve the model's ability to generalize to new data by exposing it to more varied examples during training."
      ]
    },
    {
      "cell_type": "code",
      "execution_count": null,
      "metadata": {
        "id": "G2l5wZqdRHZp"
      },
      "outputs": [],
      "source": [
        "validation_datagen=ImageDataGenerator(rescale=1/225)\n",
        "train_datagen = ImageDataGenerator(rescale = 1./255.,\n",
        "                                   rotation_range = 40,\n",
        "                                   width_shift_range = 0.2,\n",
        "                                   height_shift_range = 0.2,\n",
        "                                   shear_range = 0.2,\n",
        "                                   zoom_range = 0.2)"
      ]
    },
    {
      "cell_type": "markdown",
      "metadata": {
        "id": "1R2ghkg98tN3"
      },
      "source": []
    },
    {
      "cell_type": "code",
      "execution_count": null,
      "metadata": {
        "colab": {
          "base_uri": "https://localhost:8080/"
        },
        "id": "2rP8J13nQ4N_",
        "outputId": "40688092-6b44-4cf7-b449-f2638e5b4904"
      },
      "outputs": [
        {
          "name": "stdout",
          "output_type": "stream",
          "text": [
            "Found 7000 images belonging to 2 classes.\n",
            "Found 2183 images belonging to 2 classes.\n"
          ]
        }
      ],
      "source": [
        "training_set = train_datagen.flow_from_directory('/content/drive/MyDrive/APOD_dataset/APOD_Train',\n",
        "                                                 target_size = (224, 224),\n",
        "                                                 batch_size = 32,\n",
        "                                                 class_mode = 'binary')\n",
        "\n",
        "validation_set = validation_datagen.flow_from_directory('/content/drive/MyDrive/APOD_dataset/APOD_Valid',\n",
        "                                                 target_size = (224, 224),\n",
        "                                                 batch_size = 32,\n",
        "                                                 class_mode = 'binary')"
      ]
    },
    {
      "cell_type": "markdown",
      "metadata": {
        "id": "4Qbk9Zw14yn5"
      },
      "source": [
        "# Training Model (used VGG16 model)"
      ]
    },
    {
      "cell_type": "markdown",
      "metadata": {
        "id": "xyHClks694HW"
      },
      "source": [
        "The first line of the code initializes the VGG16 model with the following parameters:\n",
        "\n",
        "**weights**:Means the model will be initialized with the pre-trained weights that have been trained on the ImageNet dataset.\n",
        "**include_top:** whether or not to include the fully connected layers that were used for the ImageNet classification task. In this case, it is set to False, which means the fully connected layers will not be included.\n",
        "**input_shape:** the shape of the input images. In this case, it is set to (224, 224, 3)\n",
        "\n",
        "Then the model is modified by adding a new fully connected layer with 2 output units (for real and fake) . The GlobalAveragePooling2D() layer is used to reduce the dimensions of the output from the VGG16 model, and the Dense(2, activation='softmax') layer is added as the output layer. This new output layer will be responsible for classifying the images as real or fake. Finally, the full model is created by instantiating a new Model object and specifying the input "
      ]
    },
    {
      "cell_type": "code",
      "execution_count": null,
      "metadata": {
        "id": "65uKYnbsIpoR"
      },
      "outputs": [],
      "source": [
        "# initialize the VGG16 model\n",
        "model = VGG16(weights='imagenet',include_top=False, input_shape=(224, 224, 3))\n",
        "#Add a GlobalAveragePooling2D layer to the base model\n",
        "x = model.output\n",
        "x = GlobalAveragePooling2D()(x)\n",
        "# add a new fully connected layer with 2 output units (for real and fake)\n",
        "predictions = Dense(2, activation='softmax')(x)\n",
        "# create the full model\n",
        "model = Model(inputs=model.input, outputs=predictions)"
      ]
    },
    {
      "cell_type": "code",
      "execution_count": null,
      "metadata": {
        "colab": {
          "base_uri": "https://localhost:8080/"
        },
        "id": "OP6nb20TItHR",
        "outputId": "1b183185-2ceb-4cfa-99d1-930579b50235"
      },
      "outputs": [
        {
          "name": "stdout",
          "output_type": "stream",
          "text": [
            "Model: \"model\"\n",
            "_________________________________________________________________\n",
            " Layer (type)                Output Shape              Param #   \n",
            "=================================================================\n",
            " input_1 (InputLayer)        [(None, 224, 224, 3)]     0         \n",
            "                                                                 \n",
            " block1_conv1 (Conv2D)       (None, 224, 224, 64)      1792      \n",
            "                                                                 \n",
            " block1_conv2 (Conv2D)       (None, 224, 224, 64)      36928     \n",
            "                                                                 \n",
            " block1_pool (MaxPooling2D)  (None, 112, 112, 64)      0         \n",
            "                                                                 \n",
            " block2_conv1 (Conv2D)       (None, 112, 112, 128)     73856     \n",
            "                                                                 \n",
            " block2_conv2 (Conv2D)       (None, 112, 112, 128)     147584    \n",
            "                                                                 \n",
            " block2_pool (MaxPooling2D)  (None, 56, 56, 128)       0         \n",
            "                                                                 \n",
            " block3_conv1 (Conv2D)       (None, 56, 56, 256)       295168    \n",
            "                                                                 \n",
            " block3_conv2 (Conv2D)       (None, 56, 56, 256)       590080    \n",
            "                                                                 \n",
            " block3_conv3 (Conv2D)       (None, 56, 56, 256)       590080    \n",
            "                                                                 \n",
            " block3_pool (MaxPooling2D)  (None, 28, 28, 256)       0         \n",
            "                                                                 \n",
            " block4_conv1 (Conv2D)       (None, 28, 28, 512)       1180160   \n",
            "                                                                 \n",
            " block4_conv2 (Conv2D)       (None, 28, 28, 512)       2359808   \n",
            "                                                                 \n",
            " block4_conv3 (Conv2D)       (None, 28, 28, 512)       2359808   \n",
            "                                                                 \n",
            " block4_pool (MaxPooling2D)  (None, 14, 14, 512)       0         \n",
            "                                                                 \n",
            " block5_conv1 (Conv2D)       (None, 14, 14, 512)       2359808   \n",
            "                                                                 \n",
            " block5_conv2 (Conv2D)       (None, 14, 14, 512)       2359808   \n",
            "                                                                 \n",
            " block5_conv3 (Conv2D)       (None, 14, 14, 512)       2359808   \n",
            "                                                                 \n",
            " block5_pool (MaxPooling2D)  (None, 7, 7, 512)         0         \n",
            "                                                                 \n",
            " global_average_pooling2d (G  (None, 512)              0         \n",
            " lobalAveragePooling2D)                                          \n",
            "                                                                 \n",
            " dense (Dense)               (None, 2)                 1026      \n",
            "                                                                 \n",
            "=================================================================\n",
            "Total params: 14,715,714\n",
            "Trainable params: 14,715,714\n",
            "Non-trainable params: 0\n",
            "_________________________________________________________________\n"
          ]
        }
      ],
      "source": [
        "#Print the Summary Of model\n",
        "model.summary()"
      ]
    },
    {
      "cell_type": "code",
      "execution_count": null,
      "metadata": {
        "id": "o-ZmByq-IwIE"
      },
      "outputs": [],
      "source": [
        "#Compile the final Model\n",
        "model.compile(optimizer='adam', \n",
        "              loss='sparse_categorical_crossentropy', \n",
        "              metrics=['accuracy'])"
      ]
    },
    {
      "cell_type": "code",
      "execution_count": null,
      "metadata": {
        "colab": {
          "base_uri": "https://localhost:8080/"
        },
        "id": "ti09TxhkIzVK",
        "outputId": "519657dc-c670-447d-97ac-83e54666b8c3"
      },
      "outputs": [
        {
          "name": "stdout",
          "output_type": "stream",
          "text": [
            "Epoch 1/30\n",
            "218/218 [==============================] - 131s 601ms/step - loss: 0.3951 - accuracy: 0.8189 - val_loss: 0.4716 - val_accuracy: 0.7647\n",
            "Epoch 2/30\n",
            "218/218 [==============================] - 132s 604ms/step - loss: 0.3719 - accuracy: 0.8342 - val_loss: 0.4462 - val_accuracy: 0.8061\n",
            "Epoch 3/30\n",
            "218/218 [==============================] - 133s 610ms/step - loss: 0.3682 - accuracy: 0.8330 - val_loss: 0.4486 - val_accuracy: 0.7964\n",
            "Epoch 4/30\n",
            "218/218 [==============================] - 134s 616ms/step - loss: 0.3563 - accuracy: 0.8430 - val_loss: 0.5519 - val_accuracy: 0.7858\n",
            "Epoch 5/30\n",
            "218/218 [==============================] - 134s 614ms/step - loss: 0.3429 - accuracy: 0.8463 - val_loss: 0.5201 - val_accuracy: 0.8047\n",
            "Epoch 6/30\n",
            "218/218 [==============================] - 135s 617ms/step - loss: 0.3386 - accuracy: 0.8513 - val_loss: 0.4455 - val_accuracy: 0.8079\n",
            "Epoch 7/30\n",
            "218/218 [==============================] - 134s 614ms/step - loss: 0.3253 - accuracy: 0.8608 - val_loss: 0.3707 - val_accuracy: 0.8327\n",
            "Epoch 8/30\n",
            "218/218 [==============================] - 133s 607ms/step - loss: 0.3262 - accuracy: 0.8605 - val_loss: 0.5789 - val_accuracy: 0.7739\n",
            "Epoch 9/30\n",
            "218/218 [==============================] - 133s 609ms/step - loss: 0.3319 - accuracy: 0.8565 - val_loss: 0.3787 - val_accuracy: 0.8359\n",
            "Epoch 10/30\n",
            "218/218 [==============================] - 133s 608ms/step - loss: 0.3118 - accuracy: 0.8673 - val_loss: 0.3690 - val_accuracy: 0.8378\n",
            "Epoch 11/30\n",
            "218/218 [==============================] - 134s 615ms/step - loss: 0.3098 - accuracy: 0.8665 - val_loss: 0.3579 - val_accuracy: 0.8474\n",
            "Epoch 12/30\n",
            "218/218 [==============================] - 132s 604ms/step - loss: 0.3013 - accuracy: 0.8660 - val_loss: 0.4771 - val_accuracy: 0.8199\n",
            "Epoch 13/30\n",
            "218/218 [==============================] - 132s 607ms/step - loss: 0.3077 - accuracy: 0.8695 - val_loss: 0.4570 - val_accuracy: 0.8125\n",
            "Epoch 14/30\n",
            "218/218 [==============================] - 133s 611ms/step - loss: 0.2865 - accuracy: 0.8756 - val_loss: 0.3805 - val_accuracy: 0.8460\n",
            "Epoch 15/30\n",
            "218/218 [==============================] - 131s 601ms/step - loss: 0.2895 - accuracy: 0.8736 - val_loss: 0.3693 - val_accuracy: 0.8341\n",
            "Epoch 16/30\n",
            "218/218 [==============================] - 131s 598ms/step - loss: 0.3471 - accuracy: 0.8460 - val_loss: 0.4907 - val_accuracy: 0.8143\n",
            "Epoch 17/30\n",
            "218/218 [==============================] - 132s 602ms/step - loss: 0.2985 - accuracy: 0.8697 - val_loss: 0.4355 - val_accuracy: 0.8222\n",
            "Epoch 18/30\n",
            "218/218 [==============================] - 131s 599ms/step - loss: 0.2853 - accuracy: 0.8796 - val_loss: 0.2982 - val_accuracy: 0.8814\n",
            "Epoch 19/30\n",
            "218/218 [==============================] - 132s 606ms/step - loss: 0.2688 - accuracy: 0.8848 - val_loss: 0.5055 - val_accuracy: 0.8231\n",
            "Epoch 20/30\n",
            "218/218 [==============================] - 133s 609ms/step - loss: 0.2714 - accuracy: 0.8859 - val_loss: 0.3885 - val_accuracy: 0.8460\n",
            "Epoch 21/30\n",
            "218/218 [==============================] - 133s 607ms/step - loss: 0.2466 - accuracy: 0.8993 - val_loss: 0.5185 - val_accuracy: 0.8410\n",
            "Epoch 22/30\n",
            "218/218 [==============================] - 133s 608ms/step - loss: 0.2538 - accuracy: 0.8958 - val_loss: 0.5166 - val_accuracy: 0.8254\n",
            "Epoch 23/30\n",
            "218/218 [==============================] - 133s 607ms/step - loss: 0.2333 - accuracy: 0.9038 - val_loss: 0.3278 - val_accuracy: 0.8727\n",
            "Epoch 24/30\n",
            "218/218 [==============================] - 134s 614ms/step - loss: 0.2350 - accuracy: 0.9030 - val_loss: 0.2763 - val_accuracy: 0.8879\n",
            "Epoch 25/30\n",
            "218/218 [==============================] - 134s 611ms/step - loss: 0.2204 - accuracy: 0.9083 - val_loss: 0.4097 - val_accuracy: 0.8566\n",
            "Epoch 26/30\n",
            "218/218 [==============================] - 133s 611ms/step - loss: 0.2420 - accuracy: 0.9020 - val_loss: 0.3749 - val_accuracy: 0.8534\n",
            "Epoch 27/30\n",
            "218/218 [==============================] - 132s 603ms/step - loss: 0.2051 - accuracy: 0.9163 - val_loss: 0.3028 - val_accuracy: 0.8847\n",
            "Epoch 28/30\n",
            "218/218 [==============================] - 131s 600ms/step - loss: 0.2065 - accuracy: 0.9176 - val_loss: 0.3121 - val_accuracy: 0.9026\n",
            "Epoch 29/30\n",
            "218/218 [==============================] - 131s 598ms/step - loss: 0.2072 - accuracy: 0.9132 - val_loss: 0.3165 - val_accuracy: 0.8741\n",
            "Epoch 30/30\n",
            "218/218 [==============================] - 129s 592ms/step - loss: 0.2113 - accuracy: 0.9146 - val_loss: 0.2424 - val_accuracy: 0.9090\n"
          ]
        }
      ],
      "source": [
        "#Finally Fine Tune the Pre-Trained Model\n",
        "history = model.fit(\n",
        "    training_set,\n",
        "    steps_per_epoch=training_set.n // 32,\n",
        "    epochs=30,\n",
        "    validation_data=validation_set,\n",
        "    validation_steps=validation_set.n // 32\n",
        "    )"
      ]
    },
    {
      "cell_type": "markdown",
      "metadata": {
        "id": "0YW60UgH45xZ"
      },
      "source": [
        "# Save the Model"
      ]
    },
    {
      "cell_type": "code",
      "execution_count": null,
      "metadata": {
        "id": "Xk-p95D1uwyh"
      },
      "outputs": [],
      "source": [
        "# save the model\n",
        "model.save('/content/drive/MyDrive/APOD_trainnedset/APOD_dataset.h5')"
      ]
    },
    {
      "cell_type": "code",
      "execution_count": null,
      "metadata": {
        "colab": {
          "base_uri": "https://localhost:8080/"
        },
        "id": "Asdz6x-m-8N7",
        "outputId": "986a9f93-90c1-41f6-acff-b2176fbe240d"
      },
      "outputs": [
        {
          "name": "stdout",
          "output_type": "stream",
          "text": [
            "Model: \"model\"\n",
            "_________________________________________________________________\n",
            " Layer (type)                Output Shape              Param #   \n",
            "=================================================================\n",
            " input_1 (InputLayer)        [(None, 224, 224, 3)]     0         \n",
            "                                                                 \n",
            " block1_conv1 (Conv2D)       (None, 224, 224, 64)      1792      \n",
            "                                                                 \n",
            " block1_conv2 (Conv2D)       (None, 224, 224, 64)      36928     \n",
            "                                                                 \n",
            " block1_pool (MaxPooling2D)  (None, 112, 112, 64)      0         \n",
            "                                                                 \n",
            " block2_conv1 (Conv2D)       (None, 112, 112, 128)     73856     \n",
            "                                                                 \n",
            " block2_conv2 (Conv2D)       (None, 112, 112, 128)     147584    \n",
            "                                                                 \n",
            " block2_pool (MaxPooling2D)  (None, 56, 56, 128)       0         \n",
            "                                                                 \n",
            " block3_conv1 (Conv2D)       (None, 56, 56, 256)       295168    \n",
            "                                                                 \n",
            " block3_conv2 (Conv2D)       (None, 56, 56, 256)       590080    \n",
            "                                                                 \n",
            " block3_conv3 (Conv2D)       (None, 56, 56, 256)       590080    \n",
            "                                                                 \n",
            " block3_pool (MaxPooling2D)  (None, 28, 28, 256)       0         \n",
            "                                                                 \n",
            " block4_conv1 (Conv2D)       (None, 28, 28, 512)       1180160   \n",
            "                                                                 \n",
            " block4_conv2 (Conv2D)       (None, 28, 28, 512)       2359808   \n",
            "                                                                 \n",
            " block4_conv3 (Conv2D)       (None, 28, 28, 512)       2359808   \n",
            "                                                                 \n",
            " block4_pool (MaxPooling2D)  (None, 14, 14, 512)       0         \n",
            "                                                                 \n",
            " block5_conv1 (Conv2D)       (None, 14, 14, 512)       2359808   \n",
            "                                                                 \n",
            " block5_conv2 (Conv2D)       (None, 14, 14, 512)       2359808   \n",
            "                                                                 \n",
            " block5_conv3 (Conv2D)       (None, 14, 14, 512)       2359808   \n",
            "                                                                 \n",
            " block5_pool (MaxPooling2D)  (None, 7, 7, 512)         0         \n",
            "                                                                 \n",
            " global_average_pooling2d (G  (None, 512)              0         \n",
            " lobalAveragePooling2D)                                          \n",
            "                                                                 \n",
            " dense (Dense)               (None, 2)                 1026      \n",
            "                                                                 \n",
            "=================================================================\n",
            "Total params: 14,715,714\n",
            "Trainable params: 14,715,714\n",
            "Non-trainable params: 0\n",
            "_________________________________________________________________\n"
          ]
        }
      ],
      "source": [
        "loaded_model = tf.keras.models.load_model('/content/drive/MyDrive/APOD_trainnedset/APOD_dataset.h5)\n",
        "loaded_model.summary()"
      ]
    },
    {
      "cell_type": "code",
      "execution_count": null,
      "metadata": {
        "colab": {
          "base_uri": "https://localhost:8080/",
          "height": 573
        },
        "id": "FkiSaFo-_D8J",
        "outputId": "11ee3146-91ae-4b72-87b4-2c52f7a8e974"
      },
      "outputs": [
        {
          "data": {
            "image/png": "[encoded data removed]",
            "text/plain": [
              "<Figure size 432x288 with 1 Axes>"
            ]
          },
          "metadata": {
            "needs_background": "light"
          },
          "output_type": "display_data"
        },
        {
          "data": {
            "image/png": "[encoded data removed]",
            "text/plain": [
              "<Figure size 432x288 with 1 Axes>"
            ]
          },
          "metadata": {
            "needs_background": "light"
          },
          "output_type": "display_data"
        }
      ],
      "source": [
        "# Plot the training and validation accuracy\n",
        "plt.plot(history.history['accuracy'])\n",
        "plt.plot(history.history['val_accuracy'])\n",
        "plt.title('Model accuracy')\n",
        "plt.ylabel('Accuracy')\n",
        "plt.xlabel('Epoch')\n",
        "plt.legend(['Train', 'Validation'], loc='upper left')\n",
        "plt.show()\n",
        "\n",
        "# Plot the training and validation loss\n",
        "plt.plot(history.history['loss'])\n",
        "plt.plot(history.history['val_loss'])\n",
        "plt.title('Model loss')\n",
        "plt.ylabel('Loss')\n",
        "plt.xlabel('Epoch')\n",
        "plt.legend(['Train', 'Validation'], loc='upper right')\n",
        "plt.show()"
      ]
    },
    {
      "cell_type": "code",
      "execution_count": null,
      "metadata": {
        "colab": {
          "base_uri": "https://localhost:8080/",
          "height": 282
        },
        "id": "NGDuSxyqwUm-",
        "outputId": "3c13c725-3cec-4063-f5eb-23e21075fdb9"
      },
      "outputs": [
        {
          "data": {
            "text/plain": [
              "<matplotlib.axes._subplots.AxesSubplot at 0x7f746618d7f0>"
            ]
          },
          "execution_count": 15,
          "metadata": {},
          "output_type": "execute_result"
        },
        {
          "data": {
            "image/png": "[encoded data removed]",
            "text/plain": [
              "<Figure size 432x288 with 1 Axes>"
            ]
          },
          "metadata": {
            "needs_background": "light"
          },
          "output_type": "display_data"
        }
      ],
      "source": [
        "#Visualise the Training, Validation Accuracy and Training, Validation Loss\n",
        "import pandas as pdD\n",
        "\n",
        "pd.DataFrame(\n",
        "    history.history\n",
        ").plot()"
      ]
    },
    {
      "cell_type": "markdown",
      "metadata": {
        "id": "8XKc_67E5AaJ"
      },
      "source": [
        "# Load Model"
      ]
    },
    {
      "cell_type": "code",
      "execution_count": null,
      "metadata": {
        "id": "smm2sV-QkU1F"
      },
      "outputs": [],
      "source": [
        "model = load_model(\"/content/drive/MyDrive/APOD_trainnedset/APOD_dataset.h5\")"
      ]
    },
    {
      "cell_type": "code",
      "execution_count": null,
      "metadata": {
        "colab": {
          "base_uri": "https://localhost:8080/"
        },
        "id": "ZF8aKdsJu6vB",
        "outputId": "8da81642-b4f3-41ad-d592-711b9b633b46"
      },
      "outputs": [
        {
          "name": "stdout",
          "output_type": "stream",
          "text": [
            "69/69 [==============================] - 12s 165ms/step - loss: 0.2430 - accuracy: 0.9084\n",
            "Test loss: 0.24302515387535095\n",
            "Test accuracy: 0.9083829522132874\n"
          ]
        }
      ],
      "source": [
        "# Evaluate the model on the test dataset\n",
        "val_loss, val_accuracy = model.evaluate(validation_set)\n",
        "print(\"Test loss:\", val_loss)\n",
        "print(\"Test accuracy:\", val_accuracy)"
      ]
    },
    {
      "cell_type": "code",
      "execution_count": null,
      "metadata": {
        "id": "PUAEkG0qvUct"
      },
      "outputs": [],
      "source": [
        "#Test the model predictions on test images\n",
        "testing_data = glob.glob(\"/content/drive/MyDrive/APOD_dataset/mix_match/*\")"
      ]
    },
    {
      "cell_type": "code",
      "execution_count": null,
      "metadata": {
        "colab": {
          "base_uri": "https://localhost:8080/"
        },
        "id": "M-0V9jxXlMeC",
        "outputId": "795ffb49-ca17-4fd7-8f2d-93e3f3a8b1ad"
      },
      "outputs": [
        {
          "name": "stdout",
          "output_type": "stream",
          "text": [
            "1/1 [==============================] - 0s 19ms/step\n",
            "/content/drive/MyDrive/APOD_dataset/mix_match/ap030301.jpg is REAL\n",
            "1/1 [==============================] - 0s 15ms/step\n",
            "/content/drive/MyDrive/APOD_dataset/mix_match/ap030222.jpg is REAL\n",
            "1/1 [==============================] - 0s 15ms/step\n",
            "/content/drive/MyDrive/APOD_dataset/mix_match/ap030219.jpg is REAL\n",
            "1/1 [==============================] - 0s 16ms/step\n",
            "/content/drive/MyDrive/APOD_dataset/mix_match/ap030221.jpg is FAKE\n",
            "1/1 [==============================] - 0s 16ms/step\n",
            "/content/drive/MyDrive/APOD_dataset/mix_match/ap030218.jpg is REAL\n",
            "1/1 [==============================] - 0s 16ms/step\n",
            "/content/drive/MyDrive/APOD_dataset/mix_match/ap030306.jpg is FAKE\n",
            "1/1 [==============================] - 0s 15ms/step\n",
            "/content/drive/MyDrive/APOD_dataset/mix_match/ap030217.jpg is REAL\n",
            "1/1 [==============================] - 0s 17ms/step\n",
            "/content/drive/MyDrive/APOD_dataset/mix_match/ap030220.jpg is REAL\n",
            "1/1 [==============================] - 0s 17ms/step\n",
            "/content/drive/MyDrive/APOD_dataset/mix_match/1636371984_04453.png is FAKE\n",
            "1/1 [==============================] - 0s 19ms/step\n",
            "/content/drive/MyDrive/APOD_dataset/mix_match/1636371984_04479.png is FAKE\n",
            "1/1 [==============================] - 0s 15ms/step\n",
            "/content/drive/MyDrive/APOD_dataset/mix_match/1636371984_04451.png is FAKE\n",
            "1/1 [==============================] - 0s 15ms/step\n",
            "/content/drive/MyDrive/APOD_dataset/mix_match/1636371984_04445.png is FAKE\n",
            "1/1 [==============================] - 0s 15ms/step\n",
            "/content/drive/MyDrive/APOD_dataset/mix_match/1636371984_04489.png is FAKE\n",
            "1/1 [==============================] - 0s 26ms/step\n",
            "/content/drive/MyDrive/APOD_dataset/mix_match/1636371984_04482.png is FAKE\n",
            "1/1 [==============================] - 0s 15ms/step\n",
            "/content/drive/MyDrive/APOD_dataset/mix_match/1636371984_01284.png is FAKE\n",
            "1/1 [==============================] - 0s 17ms/step\n",
            "/content/drive/MyDrive/APOD_dataset/mix_match/1636371984_01287.png is FAKE\n",
            "1/1 [==============================] - 0s 18ms/step\n",
            "/content/drive/MyDrive/APOD_dataset/mix_match/1636371984_01298.png is FAKE\n",
            "1/1 [==============================] - 0s 17ms/step\n",
            "/content/drive/MyDrive/APOD_dataset/mix_match/1636371984_01285.png is FAKE\n",
            "1/1 [==============================] - 0s 16ms/step\n",
            "/content/drive/MyDrive/APOD_dataset/mix_match/00094.png is FAKE\n",
            "1/1 [==============================] - 0s 17ms/step\n",
            "/content/drive/MyDrive/APOD_dataset/mix_match/00137.png is FAKE\n",
            "1/1 [==============================] - 0s 19ms/step\n",
            "/content/drive/MyDrive/APOD_dataset/mix_match/00102.png is FAKE\n",
            "1/1 [==============================] - 0s 15ms/step\n",
            "/content/drive/MyDrive/APOD_dataset/mix_match/00101.png is FAKE\n",
            "1/1 [==============================] - 0s 16ms/step\n",
            "/content/drive/MyDrive/APOD_dataset/mix_match/00133.png is FAKE\n",
            "1/1 [==============================] - 0s 34ms/step\n",
            "/content/drive/MyDrive/APOD_dataset/mix_match/00128.png is FAKE\n"
          ]
        }
      ],
      "source": [
        "for im in testing_data:\n",
        "  img = image.load_img(im, target_size=(224, 224))\n",
        "  x = image.img_to_array(img)\n",
        "  x /= 255\n",
        "  x = np.expand_dims(x, axis=0)\n",
        "\n",
        "  predictions = model.predict(x)\n",
        "  predicted_class = np.argmax(predictions)\n",
        "  \n",
        "  if predicted_class == 1:\n",
        "    print(f\"{im} is REAL\")\n",
        "  if predicted_class == 0:\n",
        "    print(f\"{im} is FAKE\")"
      ]
    }
  ],
  "metadata": {
    "accelerator": "GPU",
    "colab": {
      "collapsed_sections": [
        "SPDy05Ld50TZ",
        "4Qbk9Zw14yn5",
        "0YW60UgH45xZ",
        "8XKc_67E5AaJ"
      ],
      "provenance": []
    },
    "gpuClass": "standard",
    "kernelspec": {
      "display_name": "Python 3",
      "language": "python",
      "name": "python3"
    },
    "language_info": {
      "name": "python"
    },
    "vscode": {
      "interpreter": {
        "hash": "5c1f741a4f83aa020b4b2a4d7353a073a4e5e4a855a3258a20da40294ddbf005"
      }
    }
  },
  "nbformat": 4,
  "nbformat_minor": 0
}
